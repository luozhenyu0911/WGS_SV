{
 "cells": [
  {
   "cell_type": "code",
   "execution_count": 1,
   "metadata": {},
   "outputs": [
    {
     "name": "stdout",
     "output_type": "stream",
     "text": [
      "绝对路径: /mnt/e/99_pipeline/WGS_SV/src\n"
     ]
    }
   ],
   "source": [
    "import os\n",
    "\n",
    "relative_path = \"./\"\n",
    "absolute_path = os.path.abspath(relative_path)\n",
    "print(\"绝对路径:\", absolute_path)\n"
   ]
  },
  {
   "cell_type": "code",
   "execution_count": 17,
   "metadata": {},
   "outputs": [
    {
     "name": "stdout",
     "output_type": "stream",
     "text": [
      "    id_list: ['00116021188M27BFF2A', '00116021276M31BFF2A', '00116031021M18BFF2A', '00116049027M18BFF2A', '00116059209M31BFF2A', '00116091015M29BFF2B']\n",
      "    id_list: ['00116101167M31BFF2A', '00118081286M17BFF2A', '00118121343M28BFF2A', '00119051646M32BFF2A', '16201278BFF2A', '16201470BFF2A']\n",
      "    id_list: ['16100898BFF2A', '16201785BFF2B', '16202500BFF2A', '16103197BFF2A', '17200395BFF2A', '18104501BFF2A']\n",
      "    id_list: ['19105545BFF2B', '19201150BFF2A']\n"
     ]
    }
   ],
   "source": [
    "def file2list(file_path, count=6):\n",
    "    with open(file_path, 'r') as f:\n",
    "        lines = f.readlines()\n",
    "        sample_list = [line.strip().split('\\t')[0] for line in lines]\n",
    "    return [sample_list[i:i + 6] for i in range(0, len(sample_list), 6)]\n",
    "sample_list = file2list('/home/lzy/e/99_pipeline/data/30x_sample.info')\n",
    "for sample in sample_list:\n",
    "    print('    id_list: '+str(sample))"
   ]
  },
  {
   "cell_type": "code",
   "execution_count": 18,
   "metadata": {},
   "outputs": [],
   "source": [
    "\n",
    "def modify_config(config_file, sample_list, depth, read_length, path):\n",
    "    os.makedirs('shell', exist_ok=True)\n",
    "    for i, sample in enumerate(sample_list):\n",
    "        outfile_name = 'shell/w'+str(i+1)+'.'+ config_file\n",
    "        with open(outfile_name, 'w') as outf:\n",
    "            with open(config_file, 'r') as configf:\n",
    "                for line in configf:\n",
    "                    if line.strip(\" \").startswith(\"id\"):\n",
    "                        print('    id_list: '+ str(sample),file = outf)\n",
    "                    elif line.strip(\" \").startswith(\"depth\"):\n",
    "                        print('    depth: '+str(depth),file = outf)\n",
    "                    elif line.strip(\" \").startswith(\"read_length\"):\n",
    "                        print('    read_length: '+str(read_length),file = outf)\n",
    "                    elif line.strip(\" \").startswith(\"PWD\"):\n",
    "                        print('    PWD: '+str(path),file = outf)\n",
    "                    elif line.strip(\" \").startswith(\"tasknum\"):\n",
    "                        print('tasknum=w'+str(i+1),file = outf)\n",
    "                    else:\n",
    "                        outf.write(line)"
   ]
  },
  {
   "cell_type": "code",
   "execution_count": null,
   "metadata": {},
   "outputs": [],
   "source": [
    "os.makedirs('shell', exist_ok=True)"
   ]
  },
  {
   "cell_type": "code",
   "execution_count": null,
   "metadata": {},
   "outputs": [],
   "source": []
  },
  {
   "cell_type": "code",
   "execution_count": null,
   "metadata": {},
   "outputs": [],
   "source": []
  },
  {
   "cell_type": "code",
   "execution_count": null,
   "metadata": {},
   "outputs": [],
   "source": []
  },
  {
   "cell_type": "code",
   "execution_count": 8,
   "metadata": {},
   "outputs": [
    {
     "data": {
      "text/plain": [
       "[['apple', 'banana', 'orange', 'grape', 'watermelon', 'pineapple'],\n",
       " ['cherry', 'kiwi', 'mango', 'papaya', 'pear', 'plum'],\n",
       " ['strawberry']]"
      ]
     },
     "execution_count": 8,
     "metadata": {},
     "output_type": "execute_result"
    }
   ],
   "source": [
    "import os\n",
    "\n",
    "# 指定要创建的文件夹的路径\n",
    "# folder_path = '/path/to/new/folder'\n",
    "\n",
    "# 创建文件夹\n",
    "os.makedirs(folder_path, exist_ok=True)\n",
    "\n",
    "# 在新创建的文件夹中创建文件\n",
    "file_content = \"This is the content of the new file.\"\n",
    "file_path = os.path.join(folder_path, 'new_file.txt')\n",
    "\n",
    "with open(file_path, 'w') as file:\n",
    "    file.write(file_content)\n",
    "\n",
    "print(\"文件夹和文件创建成功。\")\n"
   ]
  },
  {
   "cell_type": "code",
   "execution_count": null,
   "metadata": {},
   "outputs": [],
   "source": []
  },
  {
   "cell_type": "code",
   "execution_count": null,
   "metadata": {},
   "outputs": [],
   "source": []
  },
  {
   "cell_type": "code",
   "execution_count": null,
   "metadata": {},
   "outputs": [],
   "source": []
  },
  {
   "cell_type": "code",
   "execution_count": null,
   "metadata": {},
   "outputs": [],
   "source": []
  },
  {
   "cell_type": "code",
   "execution_count": null,
   "metadata": {},
   "outputs": [],
   "source": []
  }
 ],
 "metadata": {
  "kernelspec": {
   "display_name": "base",
   "language": "python",
   "name": "python3"
  },
  "language_info": {
   "codemirror_mode": {
    "name": "ipython",
    "version": 3
   },
   "file_extension": ".py",
   "mimetype": "text/x-python",
   "name": "python",
   "nbconvert_exporter": "python",
   "pygments_lexer": "ipython3",
   "version": "3.11.5"
  }
 },
 "nbformat": 4,
 "nbformat_minor": 2
}
