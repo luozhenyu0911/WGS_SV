{
 "cells": [
  {
   "cell_type": "code",
   "execution_count": null,
   "metadata": {},
   "outputs": [],
   "source": []
  },
  {
   "cell_type": "code",
   "execution_count": null,
   "metadata": {},
   "outputs": [],
   "source": []
  },
  {
   "cell_type": "code",
   "execution_count": 49,
   "metadata": {},
   "outputs": [],
   "source": [
    "import os\n",
    "import re\n",
    "end =re.compile(r'\\bEND=(-?\\d+)\\D')\n",
    "svlen =re.compile(r'\\bSVLEN=(-?\\d+)\\D')\n"
   ]
  },
  {
   "cell_type": "code",
   "execution_count": 117,
   "metadata": {},
   "outputs": [
    {
     "name": "stdout",
     "output_type": "stream",
     "text": [
      "17\n"
     ]
    }
   ],
   "source": [
    "\n",
    "def line_parser(line):\n",
    "    end =re.compile(r'\\bEND=(-?\\d+)\\D')\n",
    "    svlen =re.compile(r'\\bSVLEN=(-?\\d+)\\D')\n",
    "    lines = line.strip().split('\\t')\n",
    "    CHROM,POS,ID,REF,ALT,QUAL,FILTER,INFO,FORMAT, *gt_list = lines\n",
    "    END = end.findall(INFO)[0]\n",
    "    SVLEN = svlen.findall(INFO)[0]\n",
    "    return int(END), int(SVLEN), CHROM, int(POS),ID,REF,ALT,QUAL,FILTER,INFO,FORMAT, gt_list\n",
    "\n",
    "cutoff=0.5\n",
    "\n",
    "def combine_gt(gt_list, svlen, gt_list2, svlen2):\n",
    "    if len(gt_list)!= len(gt_list2):\n",
    "        print(\"Error: gt_list and gt_list2 have different length\")\n",
    "    c = []\n",
    "    for i in range(len(gt_list)):\n",
    "        if gt_list[i] == \"0|0:NA:NA:NA:NA\" and gt_list2[i] == \"0|0:NA:NA:NA:NA\":\n",
    "            c.append(\"0|0:NA:NA:NA:NA\")\n",
    "        else:\n",
    "            if gt_list[i] == \"0|0:NA:NA:NA:NA\":\n",
    "                c.append(gt_list2[i])\n",
    "            elif gt_list2[i] == \"0|0:NA:NA:NA:NA\":\n",
    "                c.append(gt_list[i])\n",
    "            elif svlen2 > svlen:\n",
    "                c.append(gt_list2[i])\n",
    "            else:\n",
    "                c.append(gt_list[i])\n",
    "    # print(c)\n",
    "    return c\n",
    "\n",
    "def combine_line(f, baseline, pass_line, cutoff = 0.5):\n",
    "    try:\n",
    "        line =  next(f)\n",
    "    except:\n",
    "        pass_line.append(baseline.strip())\n",
    "        return pass_line\n",
    "    END, SVLEN, CHROM,POS,ID,REF,ALT,QUAL,FILTER,INFO,FORMAT, gt_list = line_parser(baseline)\n",
    "    END2, SVLEN2, CHROM2,POS2,ID2,REF2,ALT2,QUAL2,FILTER2,INFO2,FORMAT2, gt_list2 = line_parser(line)\n",
    "    if POS2 >= END or CHROM2 != CHROM or ALT2 != ALT:\n",
    "        pass_line.append(baseline.strip())\n",
    "        baseline = line\n",
    "    elif POS <= POS2 < END:\n",
    "        if END2 <= END:\n",
    "            overlap_length = END2 - POS2\n",
    "            \n",
    "        elif END <= END2:\n",
    "            overlap_length = END - POS2\n",
    "            \n",
    "        if (cutoff*int(SVLEN2) <= overlap_length) and (cutoff*int(SVLEN) <= overlap_length):\n",
    "            maxEND = max(END, END2)\n",
    "            maxSVLEN = max(END, END2) - POS\n",
    "            new_gt_list = combine_gt(gt_list, SVLEN, gt_list2, SVLEN2)\n",
    "            new_info = \"END=\" + str(maxEND) + \";SVLEN=\" + str(maxSVLEN) + \";SVTYPE=\" + ALT\n",
    "            new_line = '\\t'.join([CHROM, str(POS), ID, REF, ALT, QUAL, FILTER, new_info, FORMAT, '\\t'.join(new_gt_list)])\n",
    "            # pass_line.append(new_line)\n",
    "            baseline = new_line\n",
    "        else:\n",
    "            pass_line.append(baseline.strip())\n",
    "            baseline = line\n",
    "    return combine_line(f, baseline, pass_line, cutoff = 0.5)\n",
    "\n",
    "\n",
    "with open('./tmp_20.vcf', 'r') as f:\n",
    "    pass_line = []\n",
    "    for line in f:\n",
    "        if line.startswith('#'):\n",
    "            pass_line.append(line.strip())\n",
    "        else:\n",
    "            baseline = line.strip()\n",
    "            break\n",
    "    pass_line = combine_line(f, baseline, pass_line, cutoff = 0.5)\n",
    "        \n",
    "print(len(pass_line))\n",
    "\n",
    "with open('./tmp_20_combine.vcf', 'w') as f:\n",
    "    for line in pass_line:\n",
    "        print(line, file=f)"
   ]
  },
  {
   "cell_type": "code",
   "execution_count": 18,
   "metadata": {},
   "outputs": [],
   "source": [
    "def combine_line(f, baseline, pass_line):\n",
    "    try:\n",
    "        line =  next(f)\n",
    "    except:\n",
    "        return pass_line\n",
    "    END, SVLEN, CHROM,POS,ID,REF,ALT,QUAL,FILTER,INFO,FORMAT, gt_list = line_parser(baseline)\n",
    "    END2, SVLEN2, CHROM2,POS2,ID2,REF2,ALT2,QUAL2,FILTER2,INFO2,FORMAT2, gt_list2 = line_parser(line)\n",
    "    if POS2 >= END or CHROM2 != CHROM or ALT2 != ALT:\n",
    "        pass_line.append(baseline)\n",
    "        baseline = line\n",
    "    elif POS <= POS2 < END:\n",
    "        if END2 <= END:\n",
    "            overlap_length = END2 - POS2\n",
    "            \n",
    "        elif END <= END2:\n",
    "            overlap_length = END - POS2\n",
    "            \n",
    "        if (cutoff*int(SVLEN2) <= overlap_length) and (cutoff*int(SVLEN) <= overlap_length):\n",
    "            maxEND = max(END, END2)\n",
    "            maxSVLEN = max(END, END2) - POS\n",
    "            new_gt_list = combine_gt(gt_list, gt_list2)\n",
    "            new_info = \"END=\" + str(maxEND) + \";SVLEN=\" + str(maxSVLEN) + \";SVTYPE=\" + ALT\n",
    "            new_line = '\\t'.join([CHROM, str(POS), ID, REF, ALT, QUAL, FILTER, new_info, FORMAT, '\\t'.join(new_gt_list)])\n",
    "            # pass_line.append(new_line)\n",
    "            baseline = new_line\n",
    "    return combine_line(f, baseline, pass_line)"
   ]
  },
  {
   "cell_type": "code",
   "execution_count": null,
   "metadata": {},
   "outputs": [],
   "source": [
    "# 定义两个列表\n",
    "a = ['str1', 'str2', 'NA', 'str4', 'str5']\n",
    "b = ['str1', 'NA', 'str3', 'str4', 'NA']\n",
    "c = []\n",
    "# 合并两个列表并去除NA\n",
    "for i in range(len(a)):\n",
    "    if a[i] == 'NA' and b[i] == 'NA':\n",
    "        c.append('NA')\n",
    "    else:\n",
    "        if a[i] == 'NA':\n",
    "            c.append(b[i])\n",
    "        elif b[i] == 'NA':\n",
    "            c.append(a[i])\n",
    "\n",
    "# 输出合并后的列表\n",
    "print(combined)\n"
   ]
  },
  {
   "cell_type": "code",
   "execution_count": 15,
   "metadata": {},
   "outputs": [],
   "source": [
    "def line_conf(a, b):\n",
    "    def line(x):\n",
    "        return a * x + b\n",
    "    return line"
   ]
  },
  {
   "cell_type": "code",
   "execution_count": 136,
   "metadata": {},
   "outputs": [
    {
     "data": {
      "text/plain": [
       "'DEL'"
      ]
     },
     "execution_count": 136,
     "metadata": {},
     "output_type": "execute_result"
    }
   ],
   "source": [
    "a = \" <DEL> \"\n",
    "# b =a.lstrip(\"<\").rstrip(\">\")\n",
    "b= None\n",
    "b = a.strip().strip(\"<>\")\n",
    "b"
   ]
  },
  {
   "cell_type": "code",
   "execution_count": 46,
   "metadata": {},
   "outputs": [
    {
     "data": {
      "text/plain": [
       "['2 6\\n', '4 10\\n']"
      ]
     },
     "execution_count": 46,
     "metadata": {},
     "output_type": "execute_result"
    }
   ],
   "source": [
    "def test(f , line, list):\n",
    "    try:\n",
    "        line = next(f)\n",
    "        list.append(line)\n",
    "    except:\n",
    "        return list\n",
    "    return test(f, line, list)\n",
    "\n",
    "with open(\"tmp.txt\", \"r\") as f:\n",
    "    a = []\n",
    "    baseline = next(f)\n",
    "    tmp = test(f, baseline, a)\n",
    "tmp"
   ]
  },
  {
   "cell_type": "code",
   "execution_count": null,
   "metadata": {},
   "outputs": [],
   "source": []
  }
 ],
 "metadata": {
  "kernelspec": {
   "display_name": "base",
   "language": "python",
   "name": "python3"
  },
  "language_info": {
   "codemirror_mode": {
    "name": "ipython",
    "version": 3
   },
   "file_extension": ".py",
   "mimetype": "text/x-python",
   "name": "python",
   "nbconvert_exporter": "python",
   "pygments_lexer": "ipython3",
   "version": "3.11.5"
  }
 },
 "nbformat": 4,
 "nbformat_minor": 2
}
